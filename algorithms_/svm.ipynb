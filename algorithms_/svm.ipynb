{
 "cells": [
  {
   "cell_type": "code",
   "execution_count": 1,
   "metadata": {},
   "outputs": [],
   "source": [
    "import numpy as np\n",
    "import pandas as pd\n",
    "import os\n",
    "from nltk.corpus import stopwords\n",
    "import string"
   ]
  },
  {
   "cell_type": "code",
   "execution_count": 2,
   "metadata": {},
   "outputs": [],
   "source": [
    "test_file = \"C:/Users/Sree/Downloads/aclImdb/test\"\n",
    "train_file = \"C:/Users/Sree/Downloads/aclImdb/train\""
   ]
  },
  {
   "cell_type": "code",
   "execution_count": 3,
   "metadata": {},
   "outputs": [],
   "source": [
    "review_list = []\n",
    "rating_list = []"
   ]
  },
  {
   "cell_type": "code",
   "execution_count": 4,
   "metadata": {},
   "outputs": [],
   "source": [
    "def review_list_(file,category,review_list,rating_list):\n",
    "    for i in os.listdir(file+\"/\"+category):\n",
    "        review_ = open(file+\"/\"+category+\"/\"+i,'r',encoding=\"ISO-8859-1\").read()\n",
    "        review_ = [c for c in review_ if c not in string.punctuation]\n",
    "        review_ = ''.join(review_)\n",
    "        review_ = [ c for c in review_.split() if c.lower() not in stopwords.words(\"english\")]\n",
    "        review_ = ' '.join(review_)\n",
    "        review_list.append(review_)\n",
    "        if category is \"neg\":\n",
    "            rating_list.append(0)\n",
    "        else:\n",
    "            rating_list.append(1)\n",
    "        \n",
    "        \n",
    "        \n",
    "        \n",
    "        "
   ]
  },
  {
   "cell_type": "code",
   "execution_count": 5,
   "metadata": {},
   "outputs": [],
   "source": [
    "for j in [test_file,train_file]:\n",
    "    for i in [\"pos\",\"neg\"]:\n",
    "        review_list_(j,i,review_list,rating_list)\n",
    "        "
   ]
  },
  {
   "cell_type": "code",
   "execution_count": 6,
   "metadata": {},
   "outputs": [],
   "source": [
    "reviews = pd.DataFrame(columns = [\"review\",\"rating\"])"
   ]
  },
  {
   "cell_type": "code",
   "execution_count": 7,
   "metadata": {},
   "outputs": [],
   "source": [
    "reviews[\"review\"] = review_list\n",
    "reviews[\"rating\"] = rating_list"
   ]
  },
  {
   "cell_type": "code",
   "execution_count": 8,
   "metadata": {},
   "outputs": [],
   "source": [
    "from sklearn.feature_extraction.text import CountVectorizer\n",
    "from sklearn.feature_extraction.text import TfidfTransformer"
   ]
  },
  {
   "cell_type": "code",
   "execution_count": 9,
   "metadata": {},
   "outputs": [],
   "source": [
    "bowtransform =CountVectorizer()\n",
    "bowtransform.fit(reviews[\"review\"])\n",
    "msg_bow = bowtransform.transform(reviews[\"review\"])\n"
   ]
  },
  {
   "cell_type": "code",
   "execution_count": 10,
   "metadata": {},
   "outputs": [],
   "source": [
    "from sklearn.model_selection import train_test_split"
   ]
  },
  {
   "cell_type": "code",
   "execution_count": 11,
   "metadata": {},
   "outputs": [],
   "source": [
    "X_train, X_test, y_train, y_test = train_test_split(msg_bow.toarray(),reviews[\"rating\"],test_size=0.5)"
   ]
  },
  {
   "cell_type": "code",
   "execution_count": 16,
   "metadata": {},
   "outputs": [],
   "source": [
    "from sklearn.metrics import classification_report,confusion_matrix"
   ]
  },
  {
   "cell_type": "code",
   "execution_count": 17,
   "metadata": {},
   "outputs": [],
   "source": [
    "import matplotlib.pyplot as plt\n",
    "%matplotlib inline"
   ]
  },
  {
   "cell_type": "code",
   "execution_count": 18,
   "metadata": {},
   "outputs": [],
   "source": [
    "from sklearn.svm import LinearSVC"
   ]
  },
  {
   "cell_type": "code",
   "execution_count": 42,
   "metadata": {},
   "outputs": [],
   "source": [
    "list_ = list(y_test)"
   ]
  },
  {
   "cell_type": "code",
   "execution_count": 45,
   "metadata": {},
   "outputs": [
    {
     "name": "stdout",
     "output_type": "stream",
     "text": [
      "0.01  score = 0.8626373626373627\n",
      "0.1  score = 0.8566433566433567\n",
      "1  score = 0.8526473526473527\n",
      "10  score = 0.8476523476523476\n",
      "100  score = 0.8476523476523476\n",
      "1000  score = 0.8476523476523476\n"
     ]
    }
   ],
   "source": [
    "for c in [0.01,0.1,1, 10, 100, 1000]:\n",
    "    svc = LinearSVC(C = c)\n",
    "    svc.fit(X_train,y_train)\n",
    "    prediction = svc.predict(X_test)\n",
    "    \n",
    "    i = 0\n",
    "    for j in range(len(prediction)):\n",
    "        if prediction[j] == list_[j]:\n",
    "            i = i+1\n",
    "    print(str(c) + \"  score = \" +str(i/len(prediction)))\n",
    "    \n",
    "    \n",
    "    \n",
    "    "
   ]
  },
  {
   "cell_type": "code",
   "execution_count": 53,
   "metadata": {},
   "outputs": [
    {
     "data": {
      "text/plain": [
       "[<matplotlib.lines.Line2D at 0x25083c6c148>]"
      ]
     },
     "execution_count": 53,
     "metadata": {},
     "output_type": "execute_result"
    },
    {
     "data": {
      "image/png": "[encoded data removed]",
      "text/plain": [
       "<Figure size 432x288 with 1 Axes>"
      ]
     },
     "metadata": {
      "needs_background": "light"
     },
     "output_type": "display_data"
    }
   ],
   "source": [
    "plt.xticks(ticks = [0.01,0.1,1, 10, 100, 1000])\n",
    "plt.plot([0.01,0.1,1, 10, 100, 1000],[0.862,0.856,0.852,0.847,0.847, 0.847],color='red', marker='o', linestyle='dashed', \\\n",
    "         linewidth=2, markersize=12)"
   ]
  },
  {
   "cell_type": "code",
   "execution_count": 41,
   "metadata": {},
   "outputs": [
    {
     "data": {
      "text/plain": [
       "0"
      ]
     },
     "execution_count": 41,
     "metadata": {},
     "output_type": "execute_result"
    }
   ],
   "source": []
  }
 ],
 "metadata": {
  "kernelspec": {
   "display_name": "Python 3",
   "language": "python",
   "name": "python3"
  },
  "language_info": {
   "codemirror_mode": {
    "name": "ipython",
    "version": 3
   },
   "file_extension": ".py",
   "mimetype": "text/x-python",
   "name": "python",
   "nbconvert_exporter": "python",
   "pygments_lexer": "ipython3",
   "version": "3.7.7"
  }
 },
 "nbformat": 4,
 "nbformat_minor": 2
}
